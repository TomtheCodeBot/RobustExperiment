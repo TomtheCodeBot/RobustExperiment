{
 "cells": [
  {
   "cell_type": "code",
   "execution_count": 1,
   "metadata": {},
   "outputs": [
    {
     "name": "stderr",
     "output_type": "stream",
     "text": [
      "/home/ubuntu/miniconda3/envs/pytorch/lib/python3.10/site-packages/tqdm/auto.py:21: TqdmWarning: IProgress not found. Please update jupyter and ipywidgets. See https://ipywidgets.readthedocs.io/en/stable/user_install.html\n",
      "  from .autonotebook import tqdm as notebook_tqdm\n",
      "2023-05-21 07:53:04.213045: I tensorflow/core/platform/cpu_feature_guard.cc:193] This TensorFlow binary is optimized with oneAPI Deep Neural Network Library (oneDNN) to use the following CPU instructions in performance-critical operations:  AVX2 AVX512F AVX512_VNNI FMA\n",
      "To enable them in other operations, rebuild TensorFlow with the appropriate compiler flags.\n",
      "2023-05-21 07:53:04.386418: I tensorflow/core/util/port.cc:104] oneDNN custom operations are on. You may see slightly different numerical results due to floating-point round-off errors from different computation orders. To turn them off, set the environment variable `TF_ENABLE_ONEDNN_OPTS=0`.\n",
      "2023-05-21 07:53:05.400175: W tensorflow/compiler/xla/stream_executor/platform/default/dso_loader.cc:64] Could not load dynamic library 'libnvinfer.so.7'; dlerror: libnvinfer.so.7: cannot open shared object file: No such file or directory; LD_LIBRARY_PATH: :/home/ubuntu/miniconda3/envs/tensorflow/lib/\n",
      "2023-05-21 07:53:05.400273: W tensorflow/compiler/xla/stream_executor/platform/default/dso_loader.cc:64] Could not load dynamic library 'libnvinfer_plugin.so.7'; dlerror: libnvinfer_plugin.so.7: cannot open shared object file: No such file or directory; LD_LIBRARY_PATH: :/home/ubuntu/miniconda3/envs/tensorflow/lib/\n",
      "2023-05-21 07:53:05.400280: W tensorflow/compiler/tf2tensorrt/utils/py_utils.cc:38] TF-TRT Warning: Cannot dlopen some TensorRT libraries. If you would like to use Nvidia GPU with TensorRT, please make sure the missing libraries mentioned above are installed properly.\n"
     ]
    }
   ],
   "source": [
    "from model.BERTNoiseDefend import BertForSequenceClassification\n",
    "from model.RoBERTaNoiseDefend import RobertaForSequenceClassification\n",
    "from transformers import AutoModelForSequenceClassification, AutoTokenizer, AutoConfig\n",
    "from textattack.models.wrappers import (\n",
    "    ModelWrapper,\n",
    "    PyTorchModelWrapper,\n",
    "    SklearnModelWrapper,\n",
    "    HuggingFaceModelWrapper,\n",
    ")\n",
    "\n",
    "\n",
    "config = AutoConfig.from_pretrained(\"/home/ubuntu/RobustExperiment/model/weights/VinAI_weights/bert-base-uncased-imdb\")\n",
    "tokenizer_tmd = AutoTokenizer.from_pretrained(\n",
    "    \"/home/ubuntu/RobustExperiment/model/weights/VinAI_weights/bert-base-uncased-imdb\", use_fast=True\n",
    ")\n",
    "\n",
    "model = BertForSequenceClassification(config)\n",
    "state = AutoModelForSequenceClassification.from_pretrained(\n",
    "    \"/home/ubuntu/RobustExperiment/model/weights/VinAI_weights/bert-base-uncased-imdb\"\n",
    ")\n",
    "model.load_state_dict(state.state_dict())\n",
    "model.to(\"cpu\")\n",
    "model.eval()\n",
    "\n",
    "tokens = tokenizer_tmd([\"This film is terrible. You don't really need to read this review further. If you are planning on watching it, suffice to say - don't (unless you are studying how not to make a good movie).<br /><br />The acting is horrendous... serious amateur hour. Throughout the movie I thought that it was interesting that they found someone who speaks and looks like Michael Madsen, only to find out that it is actually him! A new low even for him!!<br /><br />The plot is terrible. People who claim that it is original or good have probably never seen a decent movie before. Even by the standard of Hollywood action flicks, this is a terrible movie.<br /><br />Don't watch it!!! Go for a jog instead - at least you won't feel like killing yourself.\",\"This film is terrible. You don't really need to read this review further. If you are planning on watching it, suffice to say - don't (unless you are studying how not to make a good movie).<br /><br />The acting is horrendous... serious amateur hour. Throughout the movie I thought that it was interesting that they found someone who speaks and looks like Michael Madsen, only to find out that it is actually him! A new low even for him!!<br /><br />The plot is terrible. People who claim that it is original or good have probably never seen a decent movie before. Even by the standard of Hollywood action flicks, this is a terrible movie.<br /><br />Don't watch it!!! Go for a jog instead - at least you won't feel like killing yourself.\"],add_special_tokens=True,\n",
    "            padding=\"max_length\",\n",
    "            max_length=256,\n",
    "            truncation=True,\n",
    "            return_tensors=\"pt\")\n",
    "\n",
    "output = model(tokens[\"input_ids\"],tokens[\"token_type_ids\"],tokens[\"attention_mask\"])"
   ]
  },
  {
   "cell_type": "code",
   "execution_count": 3,
   "metadata": {},
   "outputs": [
    {
     "name": "stdout",
     "output_type": "stream",
     "text": [
      "torch.Size([2, 256, 768])\n",
      "torch.Size([2, 256, 768])\n",
      "torch.Size([2, 256, 768])\n",
      "torch.Size([2, 256, 768])\n",
      "torch.Size([2, 256, 768])\n",
      "torch.Size([2, 256, 768])\n",
      "torch.Size([2, 256, 768])\n",
      "torch.Size([2, 256, 768])\n",
      "torch.Size([2, 256, 768])\n",
      "torch.Size([2, 256, 768])\n",
      "torch.Size([2, 256, 768])\n",
      "torch.Size([2, 256, 768])\n"
     ]
    }
   ],
   "source": [
    "for layers in model.bert.encoder.layer:\n",
    "    print(layers.attention_output.shape)"
   ]
  },
  {
   "cell_type": "code",
   "execution_count": null,
   "metadata": {},
   "outputs": [],
   "source": [
    "import torch\n",
    "from tqdm import tqdm\n",
    "from utils.dataloader import load_train_test_imdb_data\n",
    "import numpy as np\n",
    "\n",
    "num_repetitions = 3\n",
    "batch=500\n",
    "y_pred_BERT = []\n",
    "train_data, test_data = load_train_test_imdb_data(\n",
    "        \"data/aclImdb\"\n",
    "    )\n",
    "test_labels = np.array(test_data[\"label\"])\n",
    "bert_input = list(test_data[\"text\"])\n",
    "device = \"cuda\"\n",
    "BERT = HuggingFaceModelWrapper(model,tokenizer_tmd)\n",
    "for i in tqdm(range(0,len(bert_input)//batch)):\n",
    "    model(bert_input[i*batch:(i+1)*batch])\n",
    "    "
   ]
  }
 ],
 "metadata": {
  "kernelspec": {
   "display_name": "pytorch",
   "language": "python",
   "name": "python3"
  },
  "language_info": {
   "codemirror_mode": {
    "name": "ipython",
    "version": 3
   },
   "file_extension": ".py",
   "mimetype": "text/x-python",
   "name": "python",
   "nbconvert_exporter": "python",
   "pygments_lexer": "ipython3",
   "version": "3.10.8"
  },
  "orig_nbformat": 4
 },
 "nbformat": 4,
 "nbformat_minor": 2
}
